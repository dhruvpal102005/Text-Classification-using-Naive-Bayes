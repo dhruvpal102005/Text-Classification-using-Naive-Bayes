{
 "cells": [
  {
   "cell_type": "code",
   "execution_count": 1,
   "id": "462b6e3b",
   "metadata": {},
   "outputs": [],
   "source": [
    "import numpy as np\n",
    "import pandas as pd\n",
    "from sklearn.datasets import fetch_20newsgroups\n",
    "from sklearn.feature_extraction.text import TfidfVectorizer, CountVectorizer\n",
    "from sklearn.naive_bayes import MultinomialNB\n",
    "from sklearn.metrics import accuracy_score, precision_score, recall_score, f1_score\n",
    "import math"
   ]
  },
  {
   "cell_type": "code",
   "execution_count": 4,
   "id": "a3a5d357",
   "metadata": {},
   "outputs": [],
   "source": [
    "newsgroups_train = fetch_20newsgroups(subset='train', shuffle=True)\n",
    "newsgroups_test = fetch_20newsgroups(subset='test', shuffle=True)"
   ]
  },
  {
   "cell_type": "code",
   "execution_count": 8,
   "id": "04d4379a",
   "metadata": {},
   "outputs": [],
   "source": [
    "# Preprocess the data\n",
    "vectorizer = TfidfVectorizer(stop_words='english')\n",
    "X_train = vectorizer.fit_transform(newsgroups_train.data)\n",
    "X_test = vectorizer.transform(newsgroups_test.data)"
   ]
  },
  {
   "cell_type": "code",
   "execution_count": 11,
   "id": "6d6ab964",
   "metadata": {},
   "outputs": [],
   "source": [
    "# Multinomial Naive Bayes using Sklearn\n",
    "model_sk = MultinomialNB()\n",
    "model_sk.fit(X_train,newsgroups_train.target)\n",
    "pred_sk = model_sk.predict(X_test)"
   ]
  },
  {
   "cell_type": "code",
   "execution_count": 17,
   "id": "5f61ce49",
   "metadata": {},
   "outputs": [],
   "source": [
    "# Evalutaion of Sklearn Model\n",
    "accuracy_sk = accuracy_score(newsgroups_test.target,pred_sk)\n",
    "precision_sk = precision_score(newsgroups_test.target,pred_sk,average='macro')\n",
    "recall_sk = recall_score(newsgroups_test.target,pred_sk,average='macro')\n",
    "f1_sk = f1_score(newsgroups_test.target,pred_sk,average='macro')"
   ]
  },
  {
   "cell_type": "code",
   "execution_count": 20,
   "id": "9a73d87f",
   "metadata": {},
   "outputs": [
    {
     "name": "stdout",
     "output_type": "stream",
     "text": [
      "Sklearn Model - Accuracy: 0.8169144981412639,\n",
      " Precision: 0.8367634643937156,\n",
      " Recall: 0.8022683859017992,\n",
      " F1 Score: 0.7998199251752561\n"
     ]
    }
   ],
   "source": [
    "print(f\"Sklearn Model - Accuracy: {accuracy_sk},\\n Precision: {precision_sk},\\n Recall: {recall_sk},\\n F1 Score: {f1_sk}\")"
   ]
  },
  {
   "cell_type": "code",
   "execution_count": 22,
   "id": "63cf309f",
   "metadata": {},
   "outputs": [],
   "source": [
    "# Naive bayes from scratch\n",
    "class NaiveBayes:\n",
    "    def fit(self,x,y):\n",
    "        n_samples, n_features = x.shape\n",
    "        self._classes = np.unique(y)\n",
    "        n_classes = len(self._classes)\n",
    "        \n",
    "        self._priors = np.zeros(n_classes)\n",
    "        self._likelihoods = np.zeros((n_classes,n_features))\n",
    "        \n",
    "        for idx,c in enumerate(self._classes):\n",
    "            X_c = x[y==c]\n",
    "            self._priors[idx] = X_c.shape[0] / float(n_samples)\n",
    "            self._likelihoods[idx, :] = (X_c.sum(axis=0) + 1) / (X_c.sum() + n_features)\n",
    "            \n",
    "    def predict(self,X):\n",
    "        y_pred = [self._predict(x) for x in X]\n",
    "        return np.array(y_pred)\n",
    "    \n",
    "    def _predict(self,x):\n",
    "        posteriors = []\n",
    "        \n",
    "        for idx,c in enumerate(self._classes):\n",
    "            prior = np.log(self._priors[idx])\n",
    "            conditional = np.sum(x * np.log(self._likelihoods[idx]))\n",
    "            posterior = prior + conditional\n",
    "            posteriors.append(posterior)\n",
    "        return self._classes[np.argmax(posteriors)]"
   ]
  },
  {
   "cell_type": "code",
   "execution_count": 23,
   "id": "446ad60a",
   "metadata": {},
   "outputs": [],
   "source": [
    "nb = NaiveBayes()\n",
    "nb.fit(X_train.toarray(),newsgroups_train.target)\n",
    "pred_custom = nb.predict(X_test.toarray())"
   ]
  },
  {
   "cell_type": "code",
   "execution_count": 24,
   "id": "17113de9",
   "metadata": {},
   "outputs": [],
   "source": [
    "accuracy_custom = accuracy_score(newsgroups_test.target, pred_custom)\n",
    "precision_custom = precision_score(newsgroups_test.target, pred_custom, average='macro')\n",
    "recall_custom = recall_score(newsgroups_test.target, pred_custom, average='macro')\n",
    "f1_custom = f1_score(newsgroups_test.target, pred_custom, average='macro')"
   ]
  },
  {
   "cell_type": "code",
   "execution_count": 26,
   "id": "cfcafa70",
   "metadata": {},
   "outputs": [
    {
     "name": "stdout",
     "output_type": "stream",
     "text": [
      "Sklearn Model - Accuracy: 0.8169144981412639,\n",
      " Precision: 0.8367634643937156,\n",
      " Recall: 0.8022683859017992,\n",
      " F1 Score: 0.7998199251752561\n",
      "Custom Model - Accuracy: 0.8169144981412639,\n",
      " Precision: 0.8367634643937156,\n",
      " Recall: 0.8022683859017992,\n",
      " F1 Score: 0.7998199251752561\n",
      "Comparison:\n",
      " Sklearn Model - Accuracy: 0.8169144981412639,\n",
      " Precision: 0.8367634643937156,\n",
      " Recall: 0.8022683859017992,\n",
      " F1 Score: 0.7998199251752561\n",
      "Custom Model - Accuracy: 0.8169144981412639,\n",
      " Precision: 0.8367634643937156,\n",
      " Recall: 0.8022683859017992,\n",
      " F1 Score: 0.7998199251752561\n"
     ]
    }
   ],
   "source": [
    "print(f\"Sklearn Model - Accuracy: {accuracy_sk},\\n Precision: {precision_sk},\\n Recall: {recall_sk},\\n F1 Score: {f1_sk}\")\n",
    "print(f\"Custom Model - Accuracy: {accuracy_custom},\\n Precision: {precision_custom},\\n Recall: {recall_custom},\\n F1 Score: {f1_custom}\")\n",
    "# comparing results\n",
    "print(f\"Comparison:\\n Sklearn Model - Accuracy: {accuracy_sk},\\n Precision: {precision_sk},\\n Recall: {recall_sk},\\n F1 Score: {f1_sk}\")\n",
    "print(f\"Custom Model - Accuracy: {accuracy_custom},\\n Precision: {precision_custom},\\n Recall: {recall_custom},\\n F1 Score: {f1_custom}\")"
   ]
  },
  {
   "cell_type": "code",
   "execution_count": null,
   "id": "9a3e2818",
   "metadata": {},
   "outputs": [],
   "source": []
  }
 ],
 "metadata": {
  "kernelspec": {
   "display_name": "Python 3 (ipykernel)",
   "language": "python",
   "name": "python3"
  },
  "language_info": {
   "codemirror_mode": {
    "name": "ipython",
    "version": 3
   },
   "file_extension": ".py",
   "mimetype": "text/x-python",
   "name": "python",
   "nbconvert_exporter": "python",
   "pygments_lexer": "ipython3",
   "version": "3.11.5"
  }
 },
 "nbformat": 4,
 "nbformat_minor": 5
}
